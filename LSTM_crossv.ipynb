{
 "cells": [
  {
   "cell_type": "markdown",
   "metadata": {},
   "source": [
    "# Makam pitch sequence classification with LSTM"
   ]
  },
  {
   "cell_type": "markdown",
   "metadata": {},
   "source": [
    "### Library importing for file reading and preprocessing"
   ]
  },
  {
   "cell_type": "markdown",
   "metadata": {},
   "source": [
    "### Preprocessing pitch files\n",
    "\n",
    "Before proceeding, the pitch files on the CompMusic Dunya makam corpus need to be converted in the quantized pitch series encoding constructed as described in quantizedencoding.py script."
   ]
  },
  {
   "cell_type": "code",
   "execution_count": 2,
   "metadata": {},
   "outputs": [
    {
     "name": "stderr",
     "output_type": "stream",
     "text": [
      "Using TensorFlow backend.\n"
     ]
    }
   ],
   "source": [
    "import glob\n",
    "import os\n",
    "import sys\n",
    "import json\n",
    "import numpy as np\n",
    "import dill\n",
    "from keras.preprocessing import sequence\n",
    "from sklearn.feature_extraction.text import CountVectorizer\n",
    "from keras.preprocessing.text import Tokenizer\n",
    "import matplotlib.pyplot as plt\n",
    "%matplotlib inline"
   ]
  },
  {
   "cell_type": "markdown",
   "metadata": {},
   "source": [
    "### File reading, octave folded encoding"
   ]
  },
  {
   "cell_type": "code",
   "execution_count": 13,
   "metadata": {
    "tags": [
     "outputPrepend"
    ]
   },
   "outputs": [
    {
     "name": "stdout",
     "output_type": "stream",
     "text": [
      "\n",
      "Loading fold 0.\n",
      "Loading training 900/900\n",
      "Loading testing 100/100\n",
      "Loading fold 1.\n",
      "Loading training 900/900\n",
      "Loading testing 100/100\n",
      "Loading fold 2.\n",
      "Loading training 900/900\n",
      "Loading testing 100/100\n",
      "Loading fold 3.\n",
      "Loading training 900/900\n",
      "Loading testing 100/100\n",
      "Loading fold 4.\n",
      "Loading training 900/900\n",
      "Loading testing 100/100\n",
      "Loading fold 5.\n",
      "Loading training 900/900\n",
      "Loading testing 100/100\n",
      "Loading fold 6.\n",
      "Loading training 900/900\n",
      "Loading testing 100/100\n",
      "Loading fold 7.\n",
      "Loading training 900/900\n",
      "Loading testing 100/100\n",
      "Loading fold 8.\n",
      "Loading training 900/900\n",
      "Loading testing 100/100\n",
      "Loading fold 9.\n",
      "Loading training 900/900\n",
      "Loading testing 100/100\n",
      "Fold loading completed.\n",
      "Pitch shape: 10 10\n",
      "y_train shape: 10\n",
      "y_test shape: 10\n"
     ]
    }
   ],
   "source": [
    "#Makam list\n",
    "makams = [\"Acemasiran\", \"Acemkurdi\", \"Bestenigar\", \"Beyati\", \"Hicaz\", \"Hicazkar\", \"Huseyni\", \"Huzzam\", \"Karcigar\", \"Kurdilihicazkar\", \"Mahur\", \"Muhayyer\", \"Neva\", \"Nihavent\", \"Rast\", \"Saba\", \"Segah\", \"Sultaniyegah\", \"Suzinak\", \"Ussak\"]\n",
    "\n",
    "#Arrays containing all constant-Q transforms of the soundfiles per fold\n",
    "pitch = [[],[],[],[],[],[],[],[],[],[]]\n",
    "\n",
    "#Array containing all makam labels per fold\n",
    "y_train = [[],[],[],[],[],[],[],[],[],[]]\n",
    "y_test = [[],[],[],[],[],[],[],[],[],[]]\n",
    "\n",
    "#Import folds\n",
    "f = open(\"./dlfm_makam_recognition_data/folds_updated.json\")\n",
    "folds = json.load(f)\n",
    "\n",
    "\n",
    "#Import all quantized pitch files and their labels\n",
    "for i in range(len(folds)): #in number of folds\n",
    "    \n",
    "    print(\"\\nLoading fold \" + str(i) + \".\")\n",
    "    \n",
    "    #import all training series and labels\n",
    "    for source in range(len(folds[i][1][\"training\"][\"sources\"])):\n",
    "        \n",
    "        file_name = (\"./qdata/\" + folds[i][1][\"training\"][\"sources\"][source] + \".pitch\")\n",
    "        \n",
    "        with open(file_name) as f:\n",
    "            content = f.read()\n",
    "            pitch[i].append(content)\n",
    "        \n",
    "        #import makam training label\n",
    "        y_train[i].append(makams.index(folds[i][1][\"training\"][\"modes\"][source]))\n",
    "        \n",
    "        sys.stdout.write(\"\\rLoading training %i/900\" % (source+1))\n",
    "        sys.stdout.flush()\n",
    "        \n",
    "    print()\n",
    "    \n",
    "    #import all testing series and labels\n",
    "    for ref in range(len(folds[i][1][\"testing\"])):\n",
    "        \n",
    "        file_name = (\"./qdata/\" + folds[i][1][\"testing\"][ref][\"source\"] + \".pitch\")\n",
    "        \n",
    "        with open(file_name) as f:\n",
    "            content = f.read()\n",
    "            pitch[i].append(content)\n",
    "            \n",
    "        #import makam testing label\n",
    "        y_test[i].append(makams.index(folds[i][1][\"testing\"][ref][\"mode\"]))\n",
    "\n",
    "        sys.stdout.write(\"\\rLoading testing %i/100\" % (ref+1))\n",
    "        sys.stdout.flush()\n",
    "        \n",
    " \n",
    "\n",
    "print(\"Pitch shape:\", len(pitch), len(pitch))\n",
    "print(\"y_train shape:\", len(y_train))\n",
    "print(\"y_test shape:\", len(y_test))\n",
    "\n",
    "f.close()"
   ]
  },
  {
   "cell_type": "markdown",
   "metadata": {},
   "source": [
    "### Preprocessing\n",
    "Pading input sequences"
   ]
  },
  {
   "cell_type": "code",
   "execution_count": 16,
   "metadata": {},
   "outputs": [
    {
     "name": "stdout",
     "output_type": "stream",
     "text": [
      "10\n"
     ]
    }
   ],
   "source": [
    "#Tokenization\n",
    "top_k = 500\n",
    "seqs = []\n",
    "for i in range(len(folds)):\n",
    "    tokenizer = Tokenizer(num_words=top_k, filters='', split='\\n')\n",
    "    tokenizer.fit_on_texts(pitch[i])\n",
    "    seqs.append(tokenizer.texts_to_sequences(pitch[i]))\n",
    "print(len(seqs))"
   ]
  },
  {
   "cell_type": "code",
   "execution_count": 17,
   "metadata": {},
   "outputs": [
    {
     "name": "stdout",
     "output_type": "stream",
     "text": [
      "[[178 138 252 ...  58  39  58]\n",
      " [  6   9  22 ...  50  68  50]\n",
      " [ 38  45  38 ...   1  42  49]\n",
      " ...\n",
      " [ 38  45  15 ...  21  37  19]\n",
      " [ 14  24  14 ... 298 325 298]\n",
      " [122 277 122 ...   0   0   0]]\n"
     ]
    }
   ],
   "source": [
    "#Padding\n",
    "maxlen = 10000 #select maximum sequence length\n",
    "X = []\n",
    "for i in range(len(folds)):\n",
    "    X.append(sequence.pad_sequences(np.asarray(seqs[i]), maxlen = maxlen, padding='post'))\n",
    "\n",
    "print(X[1][0:100])"
   ]
  },
  {
   "cell_type": "markdown",
   "metadata": {},
   "source": [
    "### Library importing for deep learning"
   ]
  },
  {
   "cell_type": "code",
   "execution_count": 16,
   "metadata": {},
   "outputs": [],
   "source": [
    "from keras.models import Sequential\n",
    "from keras.layers import Dense\n",
    "from keras.layers import LSTM\n",
    "from keras.layers import Dropout\n",
    "from keras.layers import Conv1D\n",
    "from keras.layers import MaxPooling1D\n",
    "from keras.layers.embeddings import Embedding\n",
    "from sklearn.model_selection import train_test_split\n",
    "from keras.utils import to_categorical"
   ]
  },
  {
   "cell_type": "markdown",
   "metadata": {},
   "source": [
    "### Data preparation"
   ]
  },
  {
   "cell_type": "code",
   "execution_count": 26,
   "metadata": {},
   "outputs": [
    {
     "name": "stdout",
     "output_type": "stream",
     "text": [
      "10 900\n",
      "10 100\n",
      "10 900\n",
      "10 900\n"
     ]
    }
   ],
   "source": [
    "X_train = []\n",
    "X_test = []\n",
    "for i in range(len(folds)):\n",
    "    X_train.append(np.asarray(X[i][:900]))\n",
    "    X_test.append(np.asarray(X[i][900:1000]))\n",
    "print(len(X_train), len(X_train[0]))\n",
    "print(len(X_test), len(X_test[0]))\n",
    "\n",
    "Y_train = to_categorical(np.asarray(y_train))\n",
    "Y_test = to_categorical(np.asarray(y_test))\n",
    "print(len(Y_train), len(Y_train[0]))\n",
    "print(len(Y_test), len(Y_train[0]))"
   ]
  },
  {
   "cell_type": "markdown",
   "metadata": {},
   "source": [
    "### Building the LSTM"
   ]
  },
  {
   "cell_type": "code",
   "execution_count": 21,
   "metadata": {},
   "outputs": [
    {
     "name": "stdout",
     "output_type": "stream",
     "text": [
      "Model: \"sequential_31\"\n",
      "_________________________________________________________________\n",
      "Layer (type)                 Output Shape              Param #   \n",
      "=================================================================\n",
      "embedding_31 (Embedding)     (None, 10000, 64)         32000     \n",
      "_________________________________________________________________\n",
      "dropout_61 (Dropout)         (None, 10000, 64)         0         \n",
      "_________________________________________________________________\n",
      "lstm_31 (LSTM)               (None, 100)               66000     \n",
      "_________________________________________________________________\n",
      "dropout_62 (Dropout)         (None, 100)               0         \n",
      "_________________________________________________________________\n",
      "dense_31 (Dense)             (None, 20)                2020      \n",
      "=================================================================\n",
      "Total params: 100,020\n",
      "Trainable params: 100,020\n",
      "Non-trainable params: 0\n",
      "_________________________________________________________________\n",
      "Model: \"sequential_32\"\n",
      "_________________________________________________________________\n",
      "Layer (type)                 Output Shape              Param #   \n",
      "=================================================================\n",
      "embedding_32 (Embedding)     (None, 10000, 64)         32000     \n",
      "_________________________________________________________________\n",
      "dropout_63 (Dropout)         (None, 10000, 64)         0         \n",
      "_________________________________________________________________\n",
      "lstm_32 (LSTM)               (None, 100)               66000     \n",
      "_________________________________________________________________\n",
      "dropout_64 (Dropout)         (None, 100)               0         \n",
      "_________________________________________________________________\n",
      "dense_32 (Dense)             (None, 20)                2020      \n",
      "=================================================================\n",
      "Total params: 100,020\n",
      "Trainable params: 100,020\n",
      "Non-trainable params: 0\n",
      "_________________________________________________________________\n",
      "Model: \"sequential_33\"\n",
      "_________________________________________________________________\n",
      "Layer (type)                 Output Shape              Param #   \n",
      "=================================================================\n",
      "embedding_33 (Embedding)     (None, 10000, 64)         32000     \n",
      "_________________________________________________________________\n",
      "dropout_65 (Dropout)         (None, 10000, 64)         0         \n",
      "_________________________________________________________________\n",
      "lstm_33 (LSTM)               (None, 100)               66000     \n",
      "_________________________________________________________________\n",
      "dropout_66 (Dropout)         (None, 100)               0         \n",
      "_________________________________________________________________\n",
      "dense_33 (Dense)             (None, 20)                2020      \n",
      "=================================================================\n",
      "Total params: 100,020\n",
      "Trainable params: 100,020\n",
      "Non-trainable params: 0\n",
      "_________________________________________________________________\n",
      "Model: \"sequential_34\"\n",
      "_________________________________________________________________\n",
      "Layer (type)                 Output Shape              Param #   \n",
      "=================================================================\n",
      "embedding_34 (Embedding)     (None, 10000, 64)         32000     \n",
      "_________________________________________________________________\n",
      "dropout_67 (Dropout)         (None, 10000, 64)         0         \n",
      "_________________________________________________________________\n",
      "lstm_34 (LSTM)               (None, 100)               66000     \n",
      "_________________________________________________________________\n",
      "dropout_68 (Dropout)         (None, 100)               0         \n",
      "_________________________________________________________________\n",
      "dense_34 (Dense)             (None, 20)                2020      \n",
      "=================================================================\n",
      "Total params: 100,020\n",
      "Trainable params: 100,020\n",
      "Non-trainable params: 0\n",
      "_________________________________________________________________\n",
      "Model: \"sequential_35\"\n",
      "_________________________________________________________________\n",
      "Layer (type)                 Output Shape              Param #   \n",
      "=================================================================\n",
      "embedding_35 (Embedding)     (None, 10000, 64)         32000     \n",
      "_________________________________________________________________\n",
      "dropout_69 (Dropout)         (None, 10000, 64)         0         \n",
      "_________________________________________________________________\n",
      "lstm_35 (LSTM)               (None, 100)               66000     \n",
      "_________________________________________________________________\n",
      "dropout_70 (Dropout)         (None, 100)               0         \n",
      "_________________________________________________________________\n",
      "dense_35 (Dense)             (None, 20)                2020      \n",
      "=================================================================\n",
      "Total params: 100,020\n",
      "Trainable params: 100,020\n",
      "Non-trainable params: 0\n",
      "_________________________________________________________________\n",
      "Model: \"sequential_36\"\n",
      "_________________________________________________________________\n",
      "Layer (type)                 Output Shape              Param #   \n",
      "=================================================================\n",
      "embedding_36 (Embedding)     (None, 10000, 64)         32000     \n",
      "_________________________________________________________________\n",
      "dropout_71 (Dropout)         (None, 10000, 64)         0         \n",
      "_________________________________________________________________\n",
      "lstm_36 (LSTM)               (None, 100)               66000     \n",
      "_________________________________________________________________\n",
      "dropout_72 (Dropout)         (None, 100)               0         \n",
      "_________________________________________________________________\n",
      "dense_36 (Dense)             (None, 20)                2020      \n",
      "=================================================================\n",
      "Total params: 100,020\n",
      "Trainable params: 100,020\n",
      "Non-trainable params: 0\n",
      "_________________________________________________________________\n",
      "Model: \"sequential_37\"\n",
      "_________________________________________________________________\n",
      "Layer (type)                 Output Shape              Param #   \n",
      "=================================================================\n",
      "embedding_37 (Embedding)     (None, 10000, 64)         32000     \n",
      "_________________________________________________________________\n",
      "dropout_73 (Dropout)         (None, 10000, 64)         0         \n",
      "_________________________________________________________________\n",
      "lstm_37 (LSTM)               (None, 100)               66000     \n",
      "_________________________________________________________________\n",
      "dropout_74 (Dropout)         (None, 100)               0         \n",
      "_________________________________________________________________\n",
      "dense_37 (Dense)             (None, 20)                2020      \n",
      "=================================================================\n",
      "Total params: 100,020\n",
      "Trainable params: 100,020\n",
      "Non-trainable params: 0\n",
      "_________________________________________________________________\n",
      "Model: \"sequential_38\"\n",
      "_________________________________________________________________\n",
      "Layer (type)                 Output Shape              Param #   \n",
      "=================================================================\n",
      "embedding_38 (Embedding)     (None, 10000, 64)         32000     \n",
      "_________________________________________________________________\n",
      "dropout_75 (Dropout)         (None, 10000, 64)         0         \n",
      "_________________________________________________________________\n",
      "lstm_38 (LSTM)               (None, 100)               66000     \n",
      "_________________________________________________________________\n",
      "dropout_76 (Dropout)         (None, 100)               0         \n",
      "_________________________________________________________________\n",
      "dense_38 (Dense)             (None, 20)                2020      \n",
      "=================================================================\n",
      "Total params: 100,020\n",
      "Trainable params: 100,020\n",
      "Non-trainable params: 0\n",
      "_________________________________________________________________\n",
      "Model: \"sequential_39\"\n",
      "_________________________________________________________________\n",
      "Layer (type)                 Output Shape              Param #   \n",
      "=================================================================\n",
      "embedding_39 (Embedding)     (None, 10000, 64)         32000     \n",
      "_________________________________________________________________\n",
      "dropout_77 (Dropout)         (None, 10000, 64)         0         \n",
      "_________________________________________________________________\n",
      "lstm_39 (LSTM)               (None, 100)               66000     \n",
      "_________________________________________________________________\n",
      "dropout_78 (Dropout)         (None, 100)               0         \n",
      "_________________________________________________________________\n",
      "dense_39 (Dense)             (None, 20)                2020      \n",
      "=================================================================\n",
      "Total params: 100,020\n",
      "Trainable params: 100,020\n",
      "Non-trainable params: 0\n",
      "_________________________________________________________________\n"
     ]
    },
    {
     "name": "stdout",
     "output_type": "stream",
     "text": [
      "Model: \"sequential_40\"\n",
      "_________________________________________________________________\n",
      "Layer (type)                 Output Shape              Param #   \n",
      "=================================================================\n",
      "embedding_40 (Embedding)     (None, 10000, 64)         32000     \n",
      "_________________________________________________________________\n",
      "dropout_79 (Dropout)         (None, 10000, 64)         0         \n",
      "_________________________________________________________________\n",
      "lstm_40 (LSTM)               (None, 100)               66000     \n",
      "_________________________________________________________________\n",
      "dropout_80 (Dropout)         (None, 100)               0         \n",
      "_________________________________________________________________\n",
      "dense_40 (Dense)             (None, 20)                2020      \n",
      "=================================================================\n",
      "Total params: 100,020\n",
      "Trainable params: 100,020\n",
      "Non-trainable params: 0\n",
      "_________________________________________________________________\n"
     ]
    }
   ],
   "source": [
    "models = []\n",
    "for i in range(len(folds)):\n",
    "    #Network topology\n",
    "    model = Sequential()\n",
    "\n",
    "    #model.add(Embedding(top_k, embedding_vector_len, input_length=len(X[0])))\n",
    "    model.add(Embedding(500, 64, input_length=10000)) #smaller input length for testing\n",
    "    #model.add(Conv1D(filters=32, kernel_size=3, padding='same', activation='relu'))\n",
    "    #model.add(MaxPooling1D(pool_size=2))\n",
    "    model.add(Dropout(0.1))\n",
    "    model.add(LSTM(100))\n",
    "    model.add(Dropout(0.1))\n",
    "    model.add(Dense(20, activation='softmax'))\n",
    "    \n",
    "    #Compile model\n",
    "    model.compile(loss='sparse_categorical_crossentropy', optimizer='adam', metrics=['accuracy'], )\n",
    "    model.summary()\n",
    "\n",
    "    models.append(model)"
   ]
  },
  {
   "cell_type": "code",
   "execution_count": 23,
   "metadata": {},
   "outputs": [
    {
     "name": "stdout",
     "output_type": "stream",
     "text": [
      "Train on 675 samples, validate on 225 samples\n",
      "Epoch 1/50\n",
      "675/675 [==============================] - 258s 383ms/step - loss: 2.9249 - accuracy: 0.0800 - val_loss: 5.0950 - val_accuracy: 0.0000e+00\n",
      "Epoch 2/50\n",
      "675/675 [==============================] - 260s 385ms/step - loss: 2.7624 - accuracy: 0.0652 - val_loss: 5.6757 - val_accuracy: 0.0000e+00\n",
      "Epoch 3/50\n",
      "675/675 [==============================] - 261s 386ms/step - loss: 2.7477 - accuracy: 0.0593 - val_loss: 6.0062 - val_accuracy: 0.0000e+00\n",
      "Epoch 4/50\n",
      "675/675 [==============================] - 261s 386ms/step - loss: 2.7221 - accuracy: 0.0756 - val_loss: 6.1255 - val_accuracy: 0.0000e+00\n",
      "Epoch 5/50\n",
      "675/675 [==============================] - 260s 385ms/step - loss: 2.7039 - accuracy: 0.0756 - val_loss: 6.1617 - val_accuracy: 0.0000e+00\n",
      "Epoch 6/50\n",
      "675/675 [==============================] - 260s 384ms/step - loss: 2.6647 - accuracy: 0.1200 - val_loss: 5.7639 - val_accuracy: 0.0000e+00\n",
      "Epoch 7/50\n",
      "675/675 [==============================] - 260s 385ms/step - loss: 2.6084 - accuracy: 0.1467 - val_loss: 6.5109 - val_accuracy: 0.0000e+00\n",
      "Epoch 8/50\n",
      "675/675 [==============================] - 261s 386ms/step - loss: 2.5485 - accuracy: 0.1837 - val_loss: 6.0881 - val_accuracy: 0.0000e+00\n",
      "Epoch 9/50\n",
      "675/675 [==============================] - 259s 384ms/step - loss: 2.4810 - accuracy: 0.2015 - val_loss: 6.5142 - val_accuracy: 0.0000e+00\n",
      "Epoch 10/50\n",
      "675/675 [==============================] - 260s 386ms/step - loss: 2.4033 - accuracy: 0.2311 - val_loss: 6.8122 - val_accuracy: 0.0000e+00\n",
      "Epoch 11/50\n",
      "675/675 [==============================] - 259s 384ms/step - loss: 2.3440 - accuracy: 0.2459 - val_loss: 5.9219 - val_accuracy: 0.0000e+00\n",
      "Epoch 12/50\n",
      "675/675 [==============================] - 260s 385ms/step - loss: 2.2892 - accuracy: 0.2593 - val_loss: 6.8997 - val_accuracy: 0.0000e+00\n",
      "Epoch 13/50\n",
      "675/675 [==============================] - 259s 384ms/step - loss: 2.2454 - accuracy: 0.2785 - val_loss: 6.8726 - val_accuracy: 0.0000e+00\n",
      "Epoch 14/50\n",
      "675/675 [==============================] - 260s 386ms/step - loss: 2.1758 - accuracy: 0.2963 - val_loss: 6.8909 - val_accuracy: 0.0000e+00\n",
      "Epoch 15/50\n",
      "675/675 [==============================] - 261s 386ms/step - loss: 2.1549 - accuracy: 0.2948 - val_loss: 6.6425 - val_accuracy: 0.0000e+00\n",
      "Epoch 16/50\n",
      "675/675 [==============================] - 260s 386ms/step - loss: 2.0706 - accuracy: 0.3526 - val_loss: 6.9196 - val_accuracy: 0.0000e+00\n",
      "Epoch 17/50\n",
      "675/675 [==============================] - 259s 384ms/step - loss: 2.0225 - accuracy: 0.3319 - val_loss: 7.3177 - val_accuracy: 0.0000e+00\n",
      "Epoch 18/50\n",
      "675/675 [==============================] - 260s 385ms/step - loss: 1.9596 - accuracy: 0.3778 - val_loss: 7.6740 - val_accuracy: 0.0000e+00\n",
      "Epoch 19/50\n",
      "675/675 [==============================] - 259s 384ms/step - loss: 1.9465 - accuracy: 0.3719 - val_loss: 6.8697 - val_accuracy: 0.0000e+00\n",
      "Epoch 20/50\n",
      "675/675 [==============================] - 259s 384ms/step - loss: 1.8714 - accuracy: 0.4015 - val_loss: 7.9862 - val_accuracy: 0.0000e+00\n",
      "Epoch 21/50\n",
      "675/675 [==============================] - 260s 385ms/step - loss: 1.8061 - accuracy: 0.4178 - val_loss: 7.8043 - val_accuracy: 0.0000e+00\n",
      "Epoch 22/50\n",
      "675/675 [==============================] - 260s 385ms/step - loss: 1.7761 - accuracy: 0.4222 - val_loss: 8.4800 - val_accuracy: 0.0000e+00\n",
      "Epoch 23/50\n",
      "675/675 [==============================] - 260s 385ms/step - loss: 1.7242 - accuracy: 0.4385 - val_loss: 8.1020 - val_accuracy: 0.0000e+00\n",
      "Epoch 24/50\n",
      "675/675 [==============================] - 260s 385ms/step - loss: 1.6650 - accuracy: 0.4637 - val_loss: 8.1911 - val_accuracy: 0.0000e+00\n",
      "Epoch 25/50\n",
      "675/675 [==============================] - 260s 385ms/step - loss: 1.6692 - accuracy: 0.4741 - val_loss: 7.6726 - val_accuracy: 0.0000e+00\n",
      "Epoch 26/50\n",
      "675/675 [==============================] - 259s 384ms/step - loss: 1.6350 - accuracy: 0.4741 - val_loss: 7.6325 - val_accuracy: 0.0000e+00\n",
      "Epoch 27/50\n",
      "675/675 [==============================] - 260s 384ms/step - loss: 1.5471 - accuracy: 0.4948 - val_loss: 8.0795 - val_accuracy: 0.0000e+00\n",
      "Epoch 28/50\n",
      "675/675 [==============================] - 260s 385ms/step - loss: 1.5142 - accuracy: 0.5230 - val_loss: 8.2078 - val_accuracy: 0.0000e+00\n",
      "Epoch 29/50\n",
      "675/675 [==============================] - 261s 386ms/step - loss: 1.5229 - accuracy: 0.5170 - val_loss: 7.9042 - val_accuracy: 0.0000e+00\n",
      "Epoch 30/50\n",
      "675/675 [==============================] - 260s 385ms/step - loss: 1.4811 - accuracy: 0.5511 - val_loss: 7.9786 - val_accuracy: 0.0000e+00\n",
      "Epoch 31/50\n",
      "675/675 [==============================] - 259s 384ms/step - loss: 1.5245 - accuracy: 0.5126 - val_loss: 7.4481 - val_accuracy: 0.0000e+00\n",
      "Epoch 32/50\n",
      "675/675 [==============================] - 259s 384ms/step - loss: 1.4399 - accuracy: 0.5570 - val_loss: 8.3213 - val_accuracy: 0.0000e+00\n",
      "Epoch 33/50\n",
      "675/675 [==============================] - 260s 385ms/step - loss: 1.3206 - accuracy: 0.5985 - val_loss: 8.3427 - val_accuracy: 0.0000e+00\n",
      "Epoch 34/50\n",
      "675/675 [==============================] - 260s 385ms/step - loss: 1.3206 - accuracy: 0.5807 - val_loss: 8.3685 - val_accuracy: 0.0000e+00\n",
      "Epoch 35/50\n",
      "675/675 [==============================] - 259s 384ms/step - loss: 1.2347 - accuracy: 0.6281 - val_loss: 8.8273 - val_accuracy: 0.0000e+00\n",
      "Epoch 36/50\n",
      "675/675 [==============================] - 261s 386ms/step - loss: 1.2075 - accuracy: 0.6222 - val_loss: 8.4703 - val_accuracy: 0.0000e+00\n",
      "Epoch 37/50\n",
      "675/675 [==============================] - 261s 386ms/step - loss: 1.1711 - accuracy: 0.6504 - val_loss: 9.1734 - val_accuracy: 0.0000e+00\n",
      "Epoch 38/50\n",
      "675/675 [==============================] - 259s 384ms/step - loss: 1.1700 - accuracy: 0.6296 - val_loss: 8.4179 - val_accuracy: 0.0000e+00\n",
      "Epoch 39/50\n",
      "675/675 [==============================] - 260s 385ms/step - loss: 1.2670 - accuracy: 0.6059 - val_loss: 8.8904 - val_accuracy: 0.0000e+00\n",
      "Epoch 40/50\n",
      "675/675 [==============================] - 270s 400ms/step - loss: 1.2057 - accuracy: 0.6193 - val_loss: 8.7818 - val_accuracy: 0.0000e+00\n",
      "Epoch 41/50\n",
      "675/675 [==============================] - 273s 404ms/step - loss: 1.1070 - accuracy: 0.6593 - val_loss: 8.6406 - val_accuracy: 0.0000e+00\n",
      "Epoch 42/50\n",
      "675/675 [==============================] - 261s 387ms/step - loss: 1.0361 - accuracy: 0.7007 - val_loss: 8.7404 - val_accuracy: 0.0000e+00\n",
      "Epoch 43/50\n",
      "675/675 [==============================] - 261s 387ms/step - loss: 1.0047 - accuracy: 0.7022 - val_loss: 9.4276 - val_accuracy: 0.0000e+00\n",
      "Epoch 44/50\n",
      "675/675 [==============================] - 263s 390ms/step - loss: 1.0625 - accuracy: 0.6741 - val_loss: 8.9207 - val_accuracy: 0.0000e+00\n",
      "Epoch 45/50\n",
      "675/675 [==============================] - 263s 390ms/step - loss: 0.9938 - accuracy: 0.7096 - val_loss: 8.9995 - val_accuracy: 0.0000e+00\n",
      "Epoch 46/50\n",
      "675/675 [==============================] - 264s 391ms/step - loss: 0.9454 - accuracy: 0.7067 - val_loss: 9.1759 - val_accuracy: 0.0000e+00\n",
      "Epoch 47/50\n",
      "675/675 [==============================] - 263s 390ms/step - loss: 0.8971 - accuracy: 0.7437 - val_loss: 9.6605 - val_accuracy: 0.0000e+00\n",
      "Epoch 48/50\n",
      "675/675 [==============================] - 264s 392ms/step - loss: 0.9476 - accuracy: 0.7274 - val_loss: 9.5292 - val_accuracy: 0.0000e+00\n",
      "Epoch 49/50\n",
      "675/675 [==============================] - 264s 391ms/step - loss: 0.8936 - accuracy: 0.7244 - val_loss: 9.4094 - val_accuracy: 0.0000e+00\n",
      "Epoch 50/50\n",
      "675/675 [==============================] - 265s 392ms/step - loss: 0.9618 - accuracy: 0.7141 - val_loss: 9.4229 - val_accuracy: 0.0000e+00\n"
     ]
    },
    {
     "name": "stderr",
     "output_type": "stream",
     "text": [
      "/opt/anaconda3/lib/python3.7/site-packages/tensorflow_core/python/framework/indexed_slices.py:433: UserWarning: Converting sparse IndexedSlices to a dense Tensor of unknown shape. This may consume a large amount of memory.\n",
      "  \"Converting sparse IndexedSlices to a dense Tensor of unknown shape. \"\n"
     ]
    },
    {
     "name": "stdout",
     "output_type": "stream",
     "text": [
      "Train on 675 samples, validate on 225 samples\n",
      "Epoch 1/50\n",
      "675/675 [==============================] - 251s 372ms/step - loss: 2.9664 - accuracy: 0.0726 - val_loss: 4.7095 - val_accuracy: 0.0000e+00\n",
      "Epoch 2/50\n",
      "675/675 [==============================] - 260s 386ms/step - loss: 2.7821 - accuracy: 0.0533 - val_loss: 6.0653 - val_accuracy: 0.0000e+00\n",
      "Epoch 3/50\n",
      "675/675 [==============================] - 259s 384ms/step - loss: 2.7399 - accuracy: 0.0578 - val_loss: 6.4075 - val_accuracy: 0.0000e+00\n",
      "Epoch 4/50\n",
      "675/675 [==============================] - 259s 384ms/step - loss: 2.7435 - accuracy: 0.0489 - val_loss: 6.5802 - val_accuracy: 0.0000e+00\n",
      "Epoch 5/50\n",
      "675/675 [==============================] - 259s 384ms/step - loss: 2.7198 - accuracy: 0.0756 - val_loss: 6.4517 - val_accuracy: 0.0000e+00\n",
      "Epoch 6/50\n",
      "352/675 [==============>...............] - ETA: 1:56 - loss: 2.6944 - accuracy: 0.0994"
     ]
    },
    {
     "ename": "KeyboardInterrupt",
     "evalue": "",
     "output_type": "error",
     "traceback": [
      "\u001b[0;31m---------------------------------------------------------------------------\u001b[0m",
      "\u001b[0;31mKeyboardInterrupt\u001b[0m                         Traceback (most recent call last)",
      "\u001b[0;32m<ipython-input-23-8b3c07b795c2>\u001b[0m in \u001b[0;36m<module>\u001b[0;34m\u001b[0m\n\u001b[1;32m      1\u001b[0m \u001b[0mhistories\u001b[0m \u001b[0;34m=\u001b[0m \u001b[0;34m[\u001b[0m\u001b[0;34m]\u001b[0m\u001b[0;34m\u001b[0m\u001b[0;34m\u001b[0m\u001b[0m\n\u001b[1;32m      2\u001b[0m \u001b[0;32mfor\u001b[0m \u001b[0mi\u001b[0m \u001b[0;32min\u001b[0m \u001b[0mrange\u001b[0m\u001b[0;34m(\u001b[0m\u001b[0mlen\u001b[0m\u001b[0;34m(\u001b[0m\u001b[0mfolds\u001b[0m\u001b[0;34m)\u001b[0m\u001b[0;34m)\u001b[0m\u001b[0;34m:\u001b[0m\u001b[0;34m\u001b[0m\u001b[0;34m\u001b[0m\u001b[0m\n\u001b[0;32m----> 3\u001b[0;31m     \u001b[0mhistory\u001b[0m \u001b[0;34m=\u001b[0m \u001b[0mmodels\u001b[0m\u001b[0;34m[\u001b[0m\u001b[0mi\u001b[0m\u001b[0;34m]\u001b[0m\u001b[0;34m.\u001b[0m\u001b[0mfit\u001b[0m\u001b[0;34m(\u001b[0m\u001b[0mX_train\u001b[0m\u001b[0;34m[\u001b[0m\u001b[0mi\u001b[0m\u001b[0;34m]\u001b[0m\u001b[0;34m,\u001b[0m \u001b[0mnp\u001b[0m\u001b[0;34m.\u001b[0m\u001b[0masarray\u001b[0m\u001b[0;34m(\u001b[0m\u001b[0my_train\u001b[0m\u001b[0;34m[\u001b[0m\u001b[0mi\u001b[0m\u001b[0;34m]\u001b[0m\u001b[0;34m)\u001b[0m\u001b[0;34m,\u001b[0m \u001b[0mvalidation_split\u001b[0m\u001b[0;34m=\u001b[0m\u001b[0;36m0.25\u001b[0m\u001b[0;34m,\u001b[0m \u001b[0mepochs\u001b[0m\u001b[0;34m=\u001b[0m\u001b[0;36m50\u001b[0m\u001b[0;34m,\u001b[0m \u001b[0mbatch_size\u001b[0m\u001b[0;34m=\u001b[0m\u001b[0;36m32\u001b[0m\u001b[0;34m)\u001b[0m\u001b[0;34m\u001b[0m\u001b[0;34m\u001b[0m\u001b[0m\n\u001b[0m\u001b[1;32m      4\u001b[0m     \u001b[0mhistories\u001b[0m\u001b[0;34m.\u001b[0m\u001b[0mappend\u001b[0m\u001b[0;34m(\u001b[0m\u001b[0mhistory\u001b[0m\u001b[0;34m)\u001b[0m\u001b[0;34m\u001b[0m\u001b[0;34m\u001b[0m\u001b[0m\n",
      "\u001b[0;32m/opt/anaconda3/lib/python3.7/site-packages/keras/engine/training.py\u001b[0m in \u001b[0;36mfit\u001b[0;34m(self, x, y, batch_size, epochs, verbose, callbacks, validation_split, validation_data, shuffle, class_weight, sample_weight, initial_epoch, steps_per_epoch, validation_steps, validation_freq, max_queue_size, workers, use_multiprocessing, **kwargs)\u001b[0m\n\u001b[1;32m   1237\u001b[0m                                         \u001b[0msteps_per_epoch\u001b[0m\u001b[0;34m=\u001b[0m\u001b[0msteps_per_epoch\u001b[0m\u001b[0;34m,\u001b[0m\u001b[0;34m\u001b[0m\u001b[0;34m\u001b[0m\u001b[0m\n\u001b[1;32m   1238\u001b[0m                                         \u001b[0mvalidation_steps\u001b[0m\u001b[0;34m=\u001b[0m\u001b[0mvalidation_steps\u001b[0m\u001b[0;34m,\u001b[0m\u001b[0;34m\u001b[0m\u001b[0;34m\u001b[0m\u001b[0m\n\u001b[0;32m-> 1239\u001b[0;31m                                         validation_freq=validation_freq)\n\u001b[0m\u001b[1;32m   1240\u001b[0m \u001b[0;34m\u001b[0m\u001b[0m\n\u001b[1;32m   1241\u001b[0m     def evaluate(self,\n",
      "\u001b[0;32m/opt/anaconda3/lib/python3.7/site-packages/keras/engine/training_arrays.py\u001b[0m in \u001b[0;36mfit_loop\u001b[0;34m(model, fit_function, fit_inputs, out_labels, batch_size, epochs, verbose, callbacks, val_function, val_inputs, shuffle, initial_epoch, steps_per_epoch, validation_steps, validation_freq)\u001b[0m\n\u001b[1;32m    194\u001b[0m                     \u001b[0mins_batch\u001b[0m\u001b[0;34m[\u001b[0m\u001b[0mi\u001b[0m\u001b[0;34m]\u001b[0m \u001b[0;34m=\u001b[0m \u001b[0mins_batch\u001b[0m\u001b[0;34m[\u001b[0m\u001b[0mi\u001b[0m\u001b[0;34m]\u001b[0m\u001b[0;34m.\u001b[0m\u001b[0mtoarray\u001b[0m\u001b[0;34m(\u001b[0m\u001b[0;34m)\u001b[0m\u001b[0;34m\u001b[0m\u001b[0;34m\u001b[0m\u001b[0m\n\u001b[1;32m    195\u001b[0m \u001b[0;34m\u001b[0m\u001b[0m\n\u001b[0;32m--> 196\u001b[0;31m                 \u001b[0mouts\u001b[0m \u001b[0;34m=\u001b[0m \u001b[0mfit_function\u001b[0m\u001b[0;34m(\u001b[0m\u001b[0mins_batch\u001b[0m\u001b[0;34m)\u001b[0m\u001b[0;34m\u001b[0m\u001b[0;34m\u001b[0m\u001b[0m\n\u001b[0m\u001b[1;32m    197\u001b[0m                 \u001b[0mouts\u001b[0m \u001b[0;34m=\u001b[0m \u001b[0mto_list\u001b[0m\u001b[0;34m(\u001b[0m\u001b[0mouts\u001b[0m\u001b[0;34m)\u001b[0m\u001b[0;34m\u001b[0m\u001b[0;34m\u001b[0m\u001b[0m\n\u001b[1;32m    198\u001b[0m                 \u001b[0;32mfor\u001b[0m \u001b[0ml\u001b[0m\u001b[0;34m,\u001b[0m \u001b[0mo\u001b[0m \u001b[0;32min\u001b[0m \u001b[0mzip\u001b[0m\u001b[0;34m(\u001b[0m\u001b[0mout_labels\u001b[0m\u001b[0;34m,\u001b[0m \u001b[0mouts\u001b[0m\u001b[0;34m)\u001b[0m\u001b[0;34m:\u001b[0m\u001b[0;34m\u001b[0m\u001b[0;34m\u001b[0m\u001b[0m\n",
      "\u001b[0;32m/opt/anaconda3/lib/python3.7/site-packages/tensorflow_core/python/keras/backend.py\u001b[0m in \u001b[0;36m__call__\u001b[0;34m(self, inputs)\u001b[0m\n\u001b[1;32m   3725\u001b[0m         \u001b[0mvalue\u001b[0m \u001b[0;34m=\u001b[0m \u001b[0mmath_ops\u001b[0m\u001b[0;34m.\u001b[0m\u001b[0mcast\u001b[0m\u001b[0;34m(\u001b[0m\u001b[0mvalue\u001b[0m\u001b[0;34m,\u001b[0m \u001b[0mtensor\u001b[0m\u001b[0;34m.\u001b[0m\u001b[0mdtype\u001b[0m\u001b[0;34m)\u001b[0m\u001b[0;34m\u001b[0m\u001b[0;34m\u001b[0m\u001b[0m\n\u001b[1;32m   3726\u001b[0m       \u001b[0mconverted_inputs\u001b[0m\u001b[0;34m.\u001b[0m\u001b[0mappend\u001b[0m\u001b[0;34m(\u001b[0m\u001b[0mvalue\u001b[0m\u001b[0;34m)\u001b[0m\u001b[0;34m\u001b[0m\u001b[0;34m\u001b[0m\u001b[0m\n\u001b[0;32m-> 3727\u001b[0;31m     \u001b[0moutputs\u001b[0m \u001b[0;34m=\u001b[0m \u001b[0mself\u001b[0m\u001b[0;34m.\u001b[0m\u001b[0m_graph_fn\u001b[0m\u001b[0;34m(\u001b[0m\u001b[0;34m*\u001b[0m\u001b[0mconverted_inputs\u001b[0m\u001b[0;34m)\u001b[0m\u001b[0;34m\u001b[0m\u001b[0;34m\u001b[0m\u001b[0m\n\u001b[0m\u001b[1;32m   3728\u001b[0m \u001b[0;34m\u001b[0m\u001b[0m\n\u001b[1;32m   3729\u001b[0m     \u001b[0;31m# EagerTensor.numpy() will often make a copy to ensure memory safety.\u001b[0m\u001b[0;34m\u001b[0m\u001b[0;34m\u001b[0m\u001b[0;34m\u001b[0m\u001b[0m\n",
      "\u001b[0;32m/opt/anaconda3/lib/python3.7/site-packages/tensorflow_core/python/eager/function.py\u001b[0m in \u001b[0;36m__call__\u001b[0;34m(self, *args, **kwargs)\u001b[0m\n\u001b[1;32m   1549\u001b[0m       \u001b[0mTypeError\u001b[0m\u001b[0;34m:\u001b[0m \u001b[0mFor\u001b[0m \u001b[0minvalid\u001b[0m \u001b[0mpositional\u001b[0m\u001b[0;34m/\u001b[0m\u001b[0mkeyword\u001b[0m \u001b[0margument\u001b[0m \u001b[0mcombinations\u001b[0m\u001b[0;34m.\u001b[0m\u001b[0;34m\u001b[0m\u001b[0;34m\u001b[0m\u001b[0m\n\u001b[1;32m   1550\u001b[0m     \"\"\"\n\u001b[0;32m-> 1551\u001b[0;31m     \u001b[0;32mreturn\u001b[0m \u001b[0mself\u001b[0m\u001b[0;34m.\u001b[0m\u001b[0m_call_impl\u001b[0m\u001b[0;34m(\u001b[0m\u001b[0margs\u001b[0m\u001b[0;34m,\u001b[0m \u001b[0mkwargs\u001b[0m\u001b[0;34m)\u001b[0m\u001b[0;34m\u001b[0m\u001b[0;34m\u001b[0m\u001b[0m\n\u001b[0m\u001b[1;32m   1552\u001b[0m \u001b[0;34m\u001b[0m\u001b[0m\n\u001b[1;32m   1553\u001b[0m   \u001b[0;32mdef\u001b[0m \u001b[0m_call_impl\u001b[0m\u001b[0;34m(\u001b[0m\u001b[0mself\u001b[0m\u001b[0;34m,\u001b[0m \u001b[0margs\u001b[0m\u001b[0;34m,\u001b[0m \u001b[0mkwargs\u001b[0m\u001b[0;34m,\u001b[0m \u001b[0mcancellation_manager\u001b[0m\u001b[0;34m=\u001b[0m\u001b[0;32mNone\u001b[0m\u001b[0;34m)\u001b[0m\u001b[0;34m:\u001b[0m\u001b[0;34m\u001b[0m\u001b[0;34m\u001b[0m\u001b[0m\n",
      "\u001b[0;32m/opt/anaconda3/lib/python3.7/site-packages/tensorflow_core/python/eager/function.py\u001b[0m in \u001b[0;36m_call_impl\u001b[0;34m(self, args, kwargs, cancellation_manager)\u001b[0m\n\u001b[1;32m   1589\u001b[0m       raise TypeError(\"Keyword arguments {} unknown. Expected {}.\".format(\n\u001b[1;32m   1590\u001b[0m           list(kwargs.keys()), list(self._arg_keywords)))\n\u001b[0;32m-> 1591\u001b[0;31m     \u001b[0;32mreturn\u001b[0m \u001b[0mself\u001b[0m\u001b[0;34m.\u001b[0m\u001b[0m_call_flat\u001b[0m\u001b[0;34m(\u001b[0m\u001b[0margs\u001b[0m\u001b[0;34m,\u001b[0m \u001b[0mself\u001b[0m\u001b[0;34m.\u001b[0m\u001b[0mcaptured_inputs\u001b[0m\u001b[0;34m,\u001b[0m \u001b[0mcancellation_manager\u001b[0m\u001b[0;34m)\u001b[0m\u001b[0;34m\u001b[0m\u001b[0;34m\u001b[0m\u001b[0m\n\u001b[0m\u001b[1;32m   1592\u001b[0m \u001b[0;34m\u001b[0m\u001b[0m\n\u001b[1;32m   1593\u001b[0m   \u001b[0;32mdef\u001b[0m \u001b[0m_filtered_call\u001b[0m\u001b[0;34m(\u001b[0m\u001b[0mself\u001b[0m\u001b[0;34m,\u001b[0m \u001b[0margs\u001b[0m\u001b[0;34m,\u001b[0m \u001b[0mkwargs\u001b[0m\u001b[0;34m)\u001b[0m\u001b[0;34m:\u001b[0m\u001b[0;34m\u001b[0m\u001b[0;34m\u001b[0m\u001b[0m\n",
      "\u001b[0;32m/opt/anaconda3/lib/python3.7/site-packages/tensorflow_core/python/eager/function.py\u001b[0m in \u001b[0;36m_call_flat\u001b[0;34m(self, args, captured_inputs, cancellation_manager)\u001b[0m\n\u001b[1;32m   1690\u001b[0m       \u001b[0;31m# No tape is watching; skip to running the function.\u001b[0m\u001b[0;34m\u001b[0m\u001b[0;34m\u001b[0m\u001b[0;34m\u001b[0m\u001b[0m\n\u001b[1;32m   1691\u001b[0m       return self._build_call_outputs(self._inference_function.call(\n\u001b[0;32m-> 1692\u001b[0;31m           ctx, args, cancellation_manager=cancellation_manager))\n\u001b[0m\u001b[1;32m   1693\u001b[0m     forward_backward = self._select_forward_and_backward_functions(\n\u001b[1;32m   1694\u001b[0m         \u001b[0margs\u001b[0m\u001b[0;34m,\u001b[0m\u001b[0;34m\u001b[0m\u001b[0;34m\u001b[0m\u001b[0m\n",
      "\u001b[0;32m/opt/anaconda3/lib/python3.7/site-packages/tensorflow_core/python/eager/function.py\u001b[0m in \u001b[0;36mcall\u001b[0;34m(self, ctx, args, cancellation_manager)\u001b[0m\n\u001b[1;32m    543\u001b[0m               \u001b[0minputs\u001b[0m\u001b[0;34m=\u001b[0m\u001b[0margs\u001b[0m\u001b[0;34m,\u001b[0m\u001b[0;34m\u001b[0m\u001b[0;34m\u001b[0m\u001b[0m\n\u001b[1;32m    544\u001b[0m               \u001b[0mattrs\u001b[0m\u001b[0;34m=\u001b[0m\u001b[0;34m(\u001b[0m\u001b[0;34m\"executor_type\"\u001b[0m\u001b[0;34m,\u001b[0m \u001b[0mexecutor_type\u001b[0m\u001b[0;34m,\u001b[0m \u001b[0;34m\"config_proto\"\u001b[0m\u001b[0;34m,\u001b[0m \u001b[0mconfig\u001b[0m\u001b[0;34m)\u001b[0m\u001b[0;34m,\u001b[0m\u001b[0;34m\u001b[0m\u001b[0;34m\u001b[0m\u001b[0m\n\u001b[0;32m--> 545\u001b[0;31m               ctx=ctx)\n\u001b[0m\u001b[1;32m    546\u001b[0m         \u001b[0;32melse\u001b[0m\u001b[0;34m:\u001b[0m\u001b[0;34m\u001b[0m\u001b[0;34m\u001b[0m\u001b[0m\n\u001b[1;32m    547\u001b[0m           outputs = execute.execute_with_cancellation(\n",
      "\u001b[0;32m/opt/anaconda3/lib/python3.7/site-packages/tensorflow_core/python/eager/execute.py\u001b[0m in \u001b[0;36mquick_execute\u001b[0;34m(op_name, num_outputs, inputs, attrs, ctx, name)\u001b[0m\n\u001b[1;32m     59\u001b[0m     tensors = pywrap_tensorflow.TFE_Py_Execute(ctx._handle, device_name,\n\u001b[1;32m     60\u001b[0m                                                \u001b[0mop_name\u001b[0m\u001b[0;34m,\u001b[0m \u001b[0minputs\u001b[0m\u001b[0;34m,\u001b[0m \u001b[0mattrs\u001b[0m\u001b[0;34m,\u001b[0m\u001b[0;34m\u001b[0m\u001b[0;34m\u001b[0m\u001b[0m\n\u001b[0;32m---> 61\u001b[0;31m                                                num_outputs)\n\u001b[0m\u001b[1;32m     62\u001b[0m   \u001b[0;32mexcept\u001b[0m \u001b[0mcore\u001b[0m\u001b[0;34m.\u001b[0m\u001b[0m_NotOkStatusException\u001b[0m \u001b[0;32mas\u001b[0m \u001b[0me\u001b[0m\u001b[0;34m:\u001b[0m\u001b[0;34m\u001b[0m\u001b[0;34m\u001b[0m\u001b[0m\n\u001b[1;32m     63\u001b[0m     \u001b[0;32mif\u001b[0m \u001b[0mname\u001b[0m \u001b[0;32mis\u001b[0m \u001b[0;32mnot\u001b[0m \u001b[0;32mNone\u001b[0m\u001b[0;34m:\u001b[0m\u001b[0;34m\u001b[0m\u001b[0;34m\u001b[0m\u001b[0m\n",
      "\u001b[0;31mKeyboardInterrupt\u001b[0m: "
     ]
    }
   ],
   "source": [
    "histories = []\n",
    "for i in range(len(folds)):\n",
    "    history = models[i].fit(X_train[i], np.asarray(y_train[i]), validation_split=0.25, epochs=50, batch_size=32)\n",
    "    histories.append(history)"
   ]
  },
  {
   "cell_type": "code",
   "execution_count": 24,
   "metadata": {},
   "outputs": [
    {
     "name": "stdout",
     "output_type": "stream",
     "text": [
      "100/100 [==============================] - 4s 40ms/step\n",
      "100/100 [==============================] - 4s 41ms/step\n",
      "[[2.997562065124512, 0.05000000074505806]]\n"
     ]
    }
   ],
   "source": [
    "#Model evaluation\n",
    "scores = []\n",
    "y_pred = [[],[],[],[],[],[],[],[],[],[]]\n",
    "for i in range(1):\n",
    "    scores.append(model.evaluate(X_test[i], np.asarray(y_test[i]), verbose=1))\n",
    "    y_pred[i].append(model.predict(X_test[i], verbose=1))\n",
    "print(scores)"
   ]
  },
  {
   "cell_type": "code",
   "execution_count": 43,
   "metadata": {},
   "outputs": [
    {
     "data": {
      "image/png": "[encoded data removed]",
      "text/plain": [
       "<Figure size 288x1152 with 1 Axes>"
      ]
     },
     "metadata": {
      "needs_background": "light"
     },
     "output_type": "display_data"
    }
   ],
   "source": [
    "plt.matshow(y_pred[0][0])\n",
    "plt.show()"
   ]
  },
  {
   "cell_type": "code",
   "execution_count": null,
   "metadata": {},
   "outputs": [],
   "source": [
    "dill.dump_session('LSTM10foldssparsecateg')"
   ]
  },
  {
   "cell_type": "code",
   "execution_count": 3,
   "metadata": {},
   "outputs": [
    {
     "name": "stderr",
     "output_type": "stream",
     "text": [
      "/opt/anaconda3/lib/python3.7/site-packages/tensorflow_core/python/framework/indexed_slices.py:433: UserWarning: Converting sparse IndexedSlices to a dense Tensor of unknown shape. This may consume a large amount of memory.\n",
      "  \"Converting sparse IndexedSlices to a dense Tensor of unknown shape. \"\n",
      "/opt/anaconda3/lib/python3.7/site-packages/tensorflow_core/python/framework/indexed_slices.py:433: UserWarning: Converting sparse IndexedSlices to a dense Tensor of unknown shape. This may consume a large amount of memory.\n",
      "  \"Converting sparse IndexedSlices to a dense Tensor of unknown shape. \"\n",
      "/opt/anaconda3/lib/python3.7/site-packages/tensorflow_core/python/framework/indexed_slices.py:433: UserWarning: Converting sparse IndexedSlices to a dense Tensor of unknown shape. This may consume a large amount of memory.\n",
      "  \"Converting sparse IndexedSlices to a dense Tensor of unknown shape. \"\n",
      "/opt/anaconda3/lib/python3.7/site-packages/tensorflow_core/python/framework/indexed_slices.py:433: UserWarning: Converting sparse IndexedSlices to a dense Tensor of unknown shape. This may consume a large amount of memory.\n",
      "  \"Converting sparse IndexedSlices to a dense Tensor of unknown shape. \"\n",
      "/opt/anaconda3/lib/python3.7/site-packages/tensorflow_core/python/framework/indexed_slices.py:433: UserWarning: Converting sparse IndexedSlices to a dense Tensor of unknown shape. This may consume a large amount of memory.\n",
      "  \"Converting sparse IndexedSlices to a dense Tensor of unknown shape. \"\n",
      "/opt/anaconda3/lib/python3.7/site-packages/tensorflow_core/python/framework/indexed_slices.py:433: UserWarning: Converting sparse IndexedSlices to a dense Tensor of unknown shape. This may consume a large amount of memory.\n",
      "  \"Converting sparse IndexedSlices to a dense Tensor of unknown shape. \"\n",
      "/opt/anaconda3/lib/python3.7/site-packages/tensorflow_core/python/framework/indexed_slices.py:433: UserWarning: Converting sparse IndexedSlices to a dense Tensor of unknown shape. This may consume a large amount of memory.\n",
      "  \"Converting sparse IndexedSlices to a dense Tensor of unknown shape. \"\n",
      "/opt/anaconda3/lib/python3.7/site-packages/tensorflow_core/python/framework/indexed_slices.py:433: UserWarning: Converting sparse IndexedSlices to a dense Tensor of unknown shape. This may consume a large amount of memory.\n",
      "  \"Converting sparse IndexedSlices to a dense Tensor of unknown shape. \"\n",
      "/opt/anaconda3/lib/python3.7/site-packages/tensorflow_core/python/framework/indexed_slices.py:433: UserWarning: Converting sparse IndexedSlices to a dense Tensor of unknown shape. This may consume a large amount of memory.\n",
      "  \"Converting sparse IndexedSlices to a dense Tensor of unknown shape. \"\n",
      "/opt/anaconda3/lib/python3.7/site-packages/tensorflow_core/python/framework/indexed_slices.py:433: UserWarning: Converting sparse IndexedSlices to a dense Tensor of unknown shape. This may consume a large amount of memory.\n",
      "  \"Converting sparse IndexedSlices to a dense Tensor of unknown shape. \"\n"
     ]
    }
   ],
   "source": [
    "dill.load_session('LSTM10folds')"
   ]
  },
  {
   "cell_type": "code",
   "execution_count": 44,
   "metadata": {},
   "outputs": [
    {
     "name": "stdout",
     "output_type": "stream",
     "text": [
      "[[0.04947704 0.05030086 0.05072093 ... 0.05040561 0.05001444 0.05154279]\n",
      " [0.05056487 0.05079577 0.05004486 ... 0.04977895 0.04945884 0.05057278]\n",
      " [0.04974943 0.04885765 0.05053457 ... 0.05073609 0.05074107 0.05038214]\n",
      " ...\n",
      " [0.05051605 0.05017499 0.05082397 ... 0.05007803 0.04983108 0.04991382]\n",
      " [0.04999694 0.04925345 0.04901185 ... 0.05074815 0.05010294 0.0497281 ]\n",
      " [0.05028688 0.05034536 0.05041906 ... 0.04948652 0.05057462 0.05070026]]\n"
     ]
    },
    {
     "data": {
      "image/png": "[encoded data removed]",
      "text/plain": [
       "<Figure size 1152x144 with 1 Axes>"
      ]
     },
     "metadata": {
      "needs_background": "light"
     },
     "output_type": "display_data"
    }
   ],
   "source": [
    "confusion_matrix = np.zeros((20,20), dtype=np.intc)\n",
    "original_class = np.zeros((10,100), dtype=np.intc)\n",
    "predicted_class = np.zeros((10,100), dtype=np.intc)\n",
    "print(y_pred[0][0])\n",
    "for fold in range(1):\n",
    "    for piece in range(100): \n",
    "        \n",
    "        original_class[fold][piece] = y_test[fold][piece]\n",
    "\n",
    "\n",
    "for fold in range(1):\n",
    "    for piece in range(100): \n",
    "        predicted_class[fold][piece] = np.argmax(y_pred[0][fold][piece])\n",
    "        \n",
    "for fold in range(1):\n",
    "    for piece in range(100):\n",
    "        confusion_matrix[(predicted_class[fold][piece])][(original_class[fold][piece])] += 1\n",
    "\n",
    "plt.matshow(predicted_class)\n",
    "plt.show()"
   ]
  },
  {
   "cell_type": "code",
   "execution_count": 45,
   "metadata": {},
   "outputs": [
    {
     "data": {
      "image/png": "[encoded data removed]",
      "text/plain": [
       "<Figure size 1152x144 with 1 Axes>"
      ]
     },
     "metadata": {
      "needs_background": "light"
     },
     "output_type": "display_data"
    }
   ],
   "source": [
    "plt.matshow(original_class)\n",
    "plt.show()\n"
   ]
  },
  {
   "cell_type": "code",
   "execution_count": 46,
   "metadata": {},
   "outputs": [
    {
     "data": {
      "image/png": "[encoded data removed]",
      "text/plain": [
       "<Figure size 288x288 with 1 Axes>"
      ]
     },
     "metadata": {
      "needs_background": "light"
     },
     "output_type": "display_data"
    }
   ],
   "source": [
    "plt.matshow(confusion_matrix)\n",
    "plt.show()"
   ]
  },
  {
   "cell_type": "code",
   "execution_count": null,
   "metadata": {},
   "outputs": [],
   "source": []
  }
 ],
 "metadata": {
  "kernelspec": {
   "display_name": "Python 3",
   "language": "python",
   "name": "python3"
  },
  "language_info": {
   "codemirror_mode": {
    "name": "ipython",
    "version": 3
   },
   "file_extension": ".py",
   "mimetype": "text/x-python",
   "name": "python",
   "nbconvert_exporter": "python",
   "pygments_lexer": "ipython3",
   "version": "3.7.6"
  }
 },
 "nbformat": 4,
 "nbformat_minor": 4
}
